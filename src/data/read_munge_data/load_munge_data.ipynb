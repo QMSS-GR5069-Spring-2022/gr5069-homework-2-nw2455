{
 "cells": [
  {
   "cell_type": "code",
   "execution_count": null,
   "id": "6bad123a-0026-48f6-b6a1-8963fbcd35ec",
   "metadata": {},
   "outputs": [],
   "source": [
    "!pip install -U -q PyDrive\n",
    "from pydrive.auth import GoogleAuth\n",
    "from pydrive.drive import GoogleDrive\n",
    "from google.colab import auth\n",
    "import seaborn as sns\n",
    "import pandas as pd\n",
    "import numpy as np\n",
    "import os"
   ]
  },
  {
   "cell_type": "code",
   "execution_count": null,
   "id": "34a6f34c-0935-40a2-aaad-e1a996e91bdd",
   "metadata": {},
   "outputs": [],
   "source": [
    "from oauth2client.client import GoogleCredentials"
   ]
  },
  {
   "cell_type": "code",
   "execution_count": null,
   "id": "f5f61806-5dc0-40a8-9833-b35addaf61c9",
   "metadata": {},
   "outputs": [],
   "source": [
    "import warnings\n",
    "warnings.filterwarnings('ignore')"
   ]
  },
  {
   "cell_type": "code",
   "execution_count": null,
   "id": "0f0a0518-3ba4-4abb-9eee-c48f4eeac9f3",
   "metadata": {},
   "outputs": [],
   "source": [
    "auth.authenticate_user()\n",
    "gauth = GoogleAuth()\n",
    "gauth.credentials = GoogleCredentials.get_application_default()\n",
    "drive = GoogleDrive(gauth)"
   ]
  },
  {
   "cell_type": "code",
   "execution_count": null,
   "id": "4f8b4e4b-01b9-4ba2-b5ce-033b39c160c6",
   "metadata": {},
   "outputs": [],
   "source": [
    "# merged datasets 1\n",
    "# https://drive.google.com/file/d/1ngefCHpfiIeRI7boNrTqv7Qvb8x18ee4/view?usp=sharing\n",
    "\n",
    "fileDownloaded = drive.CreateFile({\"id\":\"1ngefCHpfiIeRI7boNrTqv7Qvb8x18ee4\"})"
   ]
  },
  {
   "cell_type": "code",
   "execution_count": null,
   "id": "161c3835-ca19-4e85-b0d4-9ca3e9aa788c",
   "metadata": {},
   "outputs": [],
   "source": [
    "fileDownloaded.GetContentFile(\"merge.csv\")"
   ]
  },
  {
   "cell_type": "code",
   "execution_count": null,
   "id": "5c41380a-479f-4602-8916-4988ade9eb8b",
   "metadata": {},
   "outputs": [],
   "source": [
    "import pandas as pd\n",
    "data = pd.read_csv('merge.csv', encoding='utf-8')"
   ]
  },
  {
   "cell_type": "code",
   "execution_count": null,
   "id": "bc3b2e0e-0b81-4113-a8d3-a00e6240cd6c",
   "metadata": {},
   "outputs": [],
   "source": [
    "#can use function below to check if the code worked\n",
    "#data.head()"
   ]
  },
  {
   "cell_type": "code",
   "execution_count": null,
   "id": "da0b6cb4-4998-4a74-8f75-628fd3aeb034",
   "metadata": {},
   "outputs": [],
   "source": [
    "clean the merged data"
   ]
  },
  {
   "cell_type": "code",
   "execution_count": null,
   "id": "ed36ecdc-cae1-45ec-98e1-f487747caeec",
   "metadata": {},
   "outputs": [],
   "source": [
    "# delete indicators that do not contain relevant information\n",
    "data.filter(regex = 'Indicator$', axis= 1)"
   ]
  },
  {
   "cell_type": "code",
   "execution_count": null,
   "id": "34f94a6a-7cb3-4762-85b4-3bc5d17b5f8c",
   "metadata": {},
   "outputs": [],
   "source": [
    "data.drop(columns = data.filter(regex = 'Indicator$', axis = 1), inplace = True)"
   ]
  },
  {
   "cell_type": "code",
   "execution_count": null,
   "id": "d0187698-aae4-40ea-9179-df8cca71718d",
   "metadata": {},
   "outputs": [],
   "source": [
    "#Can use the function below to check if the code worked\n",
    "#data.head()"
   ]
  }
 ],
 "metadata": {
  "kernelspec": {
   "display_name": "Python 3 (ipykernel)",
   "language": "python",
   "name": "python3"
  },
  "language_info": {
   "codemirror_mode": {
    "name": "ipython",
    "version": 3
   },
   "file_extension": ".py",
   "mimetype": "text/x-python",
   "name": "python",
   "nbconvert_exporter": "python",
   "pygments_lexer": "ipython3",
   "version": "3.9.7"
  }
 },
 "nbformat": 4,
 "nbformat_minor": 5
}
