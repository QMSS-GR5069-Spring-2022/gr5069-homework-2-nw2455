{
 "cells": [
  {
   "cell_type": "code",
   "execution_count": null,
   "id": "6cba9f6e-cd67-4eb7-b046-4bbd7722d8e5",
   "metadata": {},
   "outputs": [],
   "source": [
    "from sklearn.compose import ColumnTransformer\n",
    "from sklearn.pipeline import Pipeline\n",
    "from sklearn.preprocessing import LabelEncoder\n",
    "from sklearn.experimental import enable_iterative_imputer\n",
    "from sklearn.impute import IterativeImputer\n",
    "from sklearn.preprocessing import MinMaxScaler"
   ]
  },
  {
   "cell_type": "code",
   "execution_count": null,
   "id": "4cfcfc29-b007-49cd-840b-17a092c7fe92",
   "metadata": {},
   "outputs": [],
   "source": [
    "x = data[['Number of Children (Enhanced)','Advantage Target Income 3.0','Discretionary Spending Income','Target Net Worth 4.0 Code']]"
   ]
  },
  {
   "cell_type": "code",
   "execution_count": null,
   "id": "d009d684-423d-4c06-92d4-d3363564d4bf",
   "metadata": {},
   "outputs": [],
   "source": [
    "x['Target Net Worth 4.0 Code'] = x['Target Net Worth 4.0 Code'].replace(['A','B'],[10,11])"
   ]
  },
  {
   "cell_type": "code",
   "execution_count": null,
   "id": "007aa6f1-e145-4bf8-8aa4-b310dce89302",
   "metadata": {},
   "outputs": [],
   "source": [
    "x['Advantage Target Income 3.0'] = x['Advantage Target Income 3.0'].replace(['A','B', 'C', 'D'],[10,11, 12, 13])"
   ]
  },
  {
   "cell_type": "code",
   "execution_count": null,
   "id": "e1abee59-25a1-4c62-81e8-6e6ecf828162",
   "metadata": {},
   "outputs": [],
   "source": [
    "x['Discretionary Spending Income'] = x['Discretionary Spending Income'].replace(['A','B', 'C'],[10,11, 12])"
   ]
  },
  {
   "cell_type": "code",
   "execution_count": null,
   "id": "ee5c115f-4037-47b8-a81b-c0db1c53eed2",
   "metadata": {},
   "outputs": [],
   "source": [
    "num_features = ['Number of Children (Enhanced)','Advantage Target Income 3.0','Discretionary Spending Income','Target Net Worth 4.0 Code']\n",
    "num_transformer = Pipeline(\n",
    "    steps = [(\"imputer\",IterativeImputer(initial_strategy='median',imputation_order='ascending')),\n",
    "           ('scaler',MinMaxScaler())]\n",
    ")\n",
    "\n",
    "preprocessor = ColumnTransformer(\n",
    "    transformers = [(\"num\",num_transformer,num_features)]\n",
    ")"
   ]
  },
  {
   "cell_type": "code",
   "execution_count": null,
   "id": "2a235e6b-4d9f-421e-b9ca-e38622cf0de8",
   "metadata": {},
   "outputs": [],
   "source": [
    "ouch = pd.DataFrame(preprocessor.fit_transform(x),\n",
    "                  columns = ['Number of Children (Enhanced)','Advantage Target Income 3.0',\n",
    "                             'Discretionary Spending Income','Target Net Worth 4.0 Code'])"
   ]
  },
  {
   "cell_type": "code",
   "execution_count": null,
   "id": "2a1bb389-8dca-4d59-ba41-a5407cd8ccd7",
   "metadata": {},
   "outputs": [],
   "source": [
    "ouch.isnull().sum()"
   ]
  },
  {
   "cell_type": "code",
   "execution_count": null,
   "id": "c10971f5-c4c3-47fb-9891-966a4eb7cd03",
   "metadata": {},
   "outputs": [],
   "source": [
    "ouch"
   ]
  },
  {
   "cell_type": "code",
   "execution_count": null,
   "id": "76fab1c6-800b-474c-b579-be7eb549aa49",
   "metadata": {},
   "outputs": [],
   "source": [
    "x2 = data[['Family composition (Enhanced)', 'Advantage Individual Marital Status - Person 1', 'Gender code - Person 1','Advantage Dwelling Type','Advantage Home Owner','Advantage Length of Residence']]"
   ]
  },
  {
   "cell_type": "code",
   "execution_count": null,
   "id": "fbbbda70-1ab4-4d2e-81a1-23771ca11d6c",
   "metadata": {},
   "outputs": [],
   "source": [
    "x2.isnull().sum().sort_values(ascending=False)"
   ]
  },
  {
   "cell_type": "code",
   "execution_count": null,
   "id": "c0092a6d-ed5b-4ea1-926d-18f4ad6c8c03",
   "metadata": {},
   "outputs": [],
   "source": [
    "num_features2 = ['Family composition (Enhanced)', 'Advantage Individual Marital Status - Person 1', \n",
    "                'Gender code - Person 1','Advantage Dwelling Type','Advantage Home Owner','Advantage Length of Residence']\n",
    "num_transformer2 = Pipeline(\n",
    "    steps = [('imputer',IterativeImputer(initial_strategy='median',imputation_order='ascending'))]\n",
    ")\n",
    "\n",
    "preprocessor2 = ColumnTransformer(\n",
    "    transformers = [('num',num_transformer2,num_features2)]\n",
    ")"
   ]
  },
  {
   "cell_type": "code",
   "execution_count": null,
   "id": "8b4cd145-ba67-47c9-9fb4-f6fac6d6a6fe",
   "metadata": {},
   "outputs": [],
   "source": [
    "ouch2 = pd.DataFrame(preprocessor2.fit_transform(x2),\n",
    "                  columns = ['Family composition (Enhanced)', 'Advantage Individual Marital Status - Person 1', \n",
    "                             'Gender code - Person 1','Advantage Dwelling Type','Advantage Home Owner',\n",
    "                             'Advantage Length of Residence'])"
   ]
  },
  {
   "cell_type": "code",
   "execution_count": null,
   "id": "88d896cc-2422-4394-872b-02404a222b60",
   "metadata": {},
   "outputs": [],
   "source": [
    "ouch2.isnull().sum()"
   ]
  },
  {
   "cell_type": "code",
   "execution_count": null,
   "id": "1f9c740e-55ba-438e-b13b-09a3dad1fd6d",
   "metadata": {},
   "outputs": [],
   "source": [
    "ouch2"
   ]
  },
  {
   "cell_type": "code",
   "execution_count": null,
   "id": "40d72f5b-2692-4a45-98c9-814cf1c81ee4",
   "metadata": {},
   "outputs": [],
   "source": [
    "### Recode spend codes' indices into average values"
   ]
  },
  {
   "cell_type": "code",
   "execution_count": null,
   "id": "08568fe7-c275-48e1-9b2c-e3d7600881f8",
   "metadata": {},
   "outputs": [],
   "source": [
    "spend = data.filter(regex = 'spend',axis = 1)"
   ]
  },
  {
   "cell_type": "code",
   "execution_count": null,
   "id": "431bf2a0-84ac-4908-8f52-b7db6ed67ee2",
   "metadata": {},
   "outputs": [],
   "source": [
    "spend1 = spend.replace(['1','2','3','4','5','6','7','8','9','A','B','C','D',\n",
    "                        'E','F','G','H','I','J','K','L','M','N','O','P','Q','R',\n",
    "                        'S','T','U','V','W','X','Y','Z']\n",
    "                       ,[25.50,62.50,88.00,112.50,137.50,162.50,187.50,225.00,\n",
    "                         275.00,325.00,375.00,430.00,475.00,525.00,575.00,625.00,\n",
    "                         675.00,725.00,775.00,825.00,875.00,925.00,975.00,1125.00,\n",
    "                         1375.00,1625.00,1875.00,2125.00,2375.00,2625.00,2875.00,\n",
    "                         3125.00,3375.00,3625.00,3750.00])"
   ]
  },
  {
   "cell_type": "code",
   "execution_count": null,
   "id": "a82a33ad-a0b1-431d-b17c-1d44705af135",
   "metadata": {},
   "outputs": [],
   "source": [
    "spend1"
   ]
  },
  {
   "cell_type": "code",
   "execution_count": null,
   "id": "998d480b-bc25-4a3f-a5a2-6cb42128301a",
   "metadata": {},
   "outputs": [],
   "source": [
    "### Filling in missing values in *spend*"
   ]
  },
  {
   "cell_type": "code",
   "execution_count": null,
   "id": "f61165c5-b092-4363-9228-5bf51af5e12e",
   "metadata": {},
   "outputs": [],
   "source": [
    "from sklearn.impute import KNNImputer\n",
    "from sklearn.impute import SimpleImputer"
   ]
  },
  {
   "cell_type": "code",
   "execution_count": null,
   "id": "075b0700-9761-46e2-94a2-1fbdbfa8baee",
   "metadata": {},
   "outputs": [],
   "source": [
    "big = pd.DataFrame(SimpleImputer(strategy = 'mean').fit_transform(spend1),columns = spend1.columns)"
   ]
  },
  {
   "cell_type": "code",
   "execution_count": null,
   "id": "aa3084d9-1753-4cca-9f82-8c29fb18a5b2",
   "metadata": {},
   "outputs": [],
   "source": [
    "big.isnull().sum()"
   ]
  },
  {
   "cell_type": "code",
   "execution_count": null,
   "id": "ed3ef9d8-df0b-4394-a3f5-0302a18751d5",
   "metadata": {},
   "outputs": [],
   "source": [
    "### Keep the highest categories of *spend*"
   ]
  },
  {
   "cell_type": "code",
   "execution_count": null,
   "id": "3b6a720b-b013-474f-9011-4aa17a7c427b",
   "metadata": {},
   "outputs": [],
   "source": [
    "automotive = big.filter(regex = 'c_automotive',axis = 1)\n",
    "communication = big.filter(regex = 'c_communication',axis = 1)\n",
    "education = big.filter(regex = 'c_education',axis = 1)\n",
    "entertainment = big.filter(regex = 'c_entertainment',axis = 1)\n",
    "financial_services = big.filter(regex = 'c_financial_services',axis = 1)\n",
    "food_convenience_drug_store = big.filter(regex = 'c_food-convenience-drug_store',axis = 1)\n",
    "other_retail = big.filter(regex = 'c_other_retail',axis = 1)\n",
    "restaurant = big.filter(regex = \"c_restaurant\", axis = 1)\n",
    "retail = big.filter(regex = \"c_retail\", axis = 1)\n",
    "services = big.filter(regex = \"c_services\", axis = 1)\n",
    "travel = big.filter(regex = \"c_travel\", axis = 1)"
   ]
  },
  {
   "cell_type": "code",
   "execution_count": null,
   "id": "aa198646-468e-4c1a-aadb-3166f0e52d07",
   "metadata": {},
   "outputs": [],
   "source": [
    "spend_clean = pd.concat([automotive, communication, education, entertainment,\n",
    "                       financial_services, food_convenience_drug_store,\n",
    "                       other_retail, restaurant, retail, services, travel], axis=1)"
   ]
  },
  {
   "cell_type": "code",
   "execution_count": null,
   "id": "571fb93e-d3c5-4d56-883c-b4026f5df5f0",
   "metadata": {},
   "outputs": [],
   "source": [
    "spend_clean.drop(columns = spend_clean.filter(regex = 'sc_education_', axis = 1), inplace = True)\n",
    "spend_clean.drop(columns = spend_clean.filter(regex = 'sc_travel_services_', axis = 1), inplace = True)"
   ]
  },
  {
   "cell_type": "code",
   "execution_count": null,
   "id": "d07ad11b-cfc1-4502-952d-4ba4a2de845b",
   "metadata": {},
   "outputs": [],
   "source": [
    "for col in spend_clean.columns:\n",
    "  print(col)"
   ]
  },
  {
   "cell_type": "code",
   "execution_count": null,
   "id": "26d7a412-13b5-41f1-9a3a-561b743f4c11",
   "metadata": {},
   "outputs": [],
   "source": [
    "spend_clean.head()"
   ]
  }
 ],
 "metadata": {
  "kernelspec": {
   "display_name": "Python 3 (ipykernel)",
   "language": "python",
   "name": "python3"
  },
  "language_info": {
   "codemirror_mode": {
    "name": "ipython",
    "version": 3
   },
   "file_extension": ".py",
   "mimetype": "text/x-python",
   "name": "python",
   "nbconvert_exporter": "python",
   "pygments_lexer": "ipython3",
   "version": "3.9.7"
  }
 },
 "nbformat": 4,
 "nbformat_minor": 5
}
