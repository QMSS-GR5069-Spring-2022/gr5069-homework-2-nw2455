{
 "cells": [
  {
   "cell_type": "code",
   "execution_count": null,
   "id": "af69f19a-737d-4e1f-8dff-1c5b3d0b208f",
   "metadata": {},
   "outputs": [],
   "source": [
    "#link to raw data: https://drive.google.com/file/d/1ngefCHpfiIeRI7boNrTqv7Qvb8x18ee4/view?usp=sharing"
   ]
  }
 ],
 "metadata": {
  "kernelspec": {
   "display_name": "Python 3 (ipykernel)",
   "language": "python",
   "name": "python3"
  },
  "language_info": {
   "codemirror_mode": {
    "name": "ipython",
    "version": 3
   },
   "file_extension": ".py",
   "mimetype": "text/x-python",
   "name": "python",
   "nbconvert_exporter": "python",
   "pygments_lexer": "ipython3",
   "version": "3.9.7"
  }
 },
 "nbformat": 4,
 "nbformat_minor": 5
}
